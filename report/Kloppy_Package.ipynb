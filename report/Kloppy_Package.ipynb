{
 "cells": [
  {
   "cell_type": "markdown",
   "id": "ab2fd4c3",
   "metadata": {},
   "source": [
    "# Kloppy featuring InStat\n",
    "\n",
    "## What is Kloppy ?\n",
    "\"Kloppy\" is an open source Python package that standardizes data models, filters and transformers to facilitate work with different tracking and event data from various providers,So its main features are to load data and transform it into standardized models and vice versa.\n"
   ]
  },
  {
   "cell_type": "markdown",
   "id": "2dddb30c",
   "metadata": {},
   "source": [
    "*The following table shows the providers supported by kloppy.*\n",
    "\n",
    "|Provider|Format|\n",
    "|--------|------|\n",
    "|Datafactory|JSON|\n",
    "|Metrica|JSON\n",
    "|Opta|LXML|\n",
    "|Sportec|LXML|\n",
    "|Statsbomb|JSON|\n",
    "|Wyscout|JSON|\n",
    "\n",
    "To simplify the process, these providers display a different data structure within each format, \"Kloppy\" will proceed with each one to provide the same final result structure for each game."
   ]
  },
  {
   "cell_type": "markdown",
   "id": "72beaa9b",
   "metadata": {},
   "source": [
    "## Problematic\n",
    "Before delving into the details we will identify the problematic .The Company is delivered with football data from different providers, In our case, we will point to the Instat provider.\n",
    "\n",
    "### 1. The InStat Provider \n",
    "InStat is a worldwide sports performance analysis company, it prepares statistics for pre-game analysis, collects data during games and breaks down the game after it is completed.\n",
    "\n",
    "### 2. InStat & Kloppy\n",
    "As previously mentioned \"Kloppy\" is a great package with many features. We want to adapt Instat to the Kloppy package. As an action plan, we have to break down the package in order to understand how it works and analyse the structure of the \"InStat\" file"
   ]
  },
  {
   "cell_type": "code",
   "execution_count": null,
   "id": "c7d18021",
   "metadata": {},
   "outputs": [],
   "source": []
  }
 ],
 "metadata": {
  "kernelspec": {
   "display_name": "Python 3 (ipykernel)",
   "language": "python",
   "name": "python3"
  },
  "language_info": {
   "codemirror_mode": {
    "name": "ipython",
    "version": 3
   },
   "file_extension": ".py",
   "mimetype": "text/x-python",
   "name": "python",
   "nbconvert_exporter": "python",
   "pygments_lexer": "ipython3",
   "version": "3.8.10"
  }
 },
 "nbformat": 4,
 "nbformat_minor": 5
}
