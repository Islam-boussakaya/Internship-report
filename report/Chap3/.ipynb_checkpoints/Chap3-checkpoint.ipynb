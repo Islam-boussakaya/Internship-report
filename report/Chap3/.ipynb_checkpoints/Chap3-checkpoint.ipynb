{
 "cells": [
  {
   "cell_type": "markdown",
   "id": "312c83f4",
   "metadata": {},
   "source": [
    "# Data Visualization\n",
    "\n",
    "## Introduction\n",
    "In this chapter, we will visualize the data we were working on, so that we can present them with the best layout and the best way.\n",
    "\n",
    "## FrameWork\n",
    "Away from the basic softwares used for data visualisation, We will stick to Python and create the dashboard from scratch using dash-plotly as a framework. We're going to build an analytical web application. \n",
    "\n",
    "### What is Dash ?\n",
    "\n",
    "Dash is a python framework created by plotly for creating interactive web applications. Dash is written on the top of Flask, Plotly.js and React.js.Dash is open source and the application build using this framework are viewed on the web browser.\n",
    "\n",
    "The Dash application is made of two building blocks\n",
    "\n",
    "Layout :\n",
    ": It defines the structure of the application . Elements used such as dropdowns , buttons , graphs etc and the placement , size , color etc. Dash contains Dash HTML components which we can create and style HTML content such as heading, paragraph, images etc using python . Elements such as dropdowns, graphs, cards are created using Dash Core components.\n",
    "Dash also includes Dash Bootstrap components that makes it easier to build consistently styled apps with complex, responsive layouts.\n",
    "\n",
    "Callbacks :\n",
    ": Are used to bring interactivity to the dash application. These are the functions using which, for example, we can define the activity that would happen on clicking a button or a dropdown.\n",
    "\n",
    "### Dash Bootstrap Components\n",
    "For improved layout design, we will use Bootstrap. Dash-bootstrap-components is a library of Bootstrap components for Plotly Dash, that makes it easier to build consistently styled apps with complex, responsive layouts.\n",
    "## Dashboard Content\n",
    "\n",
    "### Match page\n",
    "\n",
    "The landing page which contains game information such as home team and away team, name and score also two buttons to pass to display the line-up for each team and comparison of players.\n",
    "```{figure} img/landingpage.png\n",
    "---\n",
    "name: landingpage-fig\n",
    "---\n",
    "The landing page.\n",
    "```\n",
    "```{figure} img/lineuppage.png\n",
    "---\n",
    "name: lineuppage-fig\n",
    "---\n",
    "Displayed content after clicking on line-up button.\n",
    "```\n",
    "### Running configuration\n",
    "It where the user can configurate each type of running.\n",
    "```{figure} img/config.png\n",
    "---\n",
    "name: config-fig\n",
    "---\n",
    "Configuration of the runiing types.\n",
    "```"
   ]
  },
  {
   "cell_type": "markdown",
   "id": "cf74939e",
   "metadata": {},
   "source": [
    "### Player page\n",
    "It is the main page on which the player performance information will be displayed.\n",
    "```{figure} img/playerpage.png\n",
    "---\n",
    "name: playerpage-fig\n",
    "---\n",
    "Displayed content after selecting on one player .\n",
    "```"
   ]
  },
  {
   "cell_type": "markdown",
   "id": "596a9d29",
   "metadata": {},
   "source": [
    "### Player Comparison\n",
    "```{figure} img/playercomp.png\n",
    "---\n",
    "name: playercomp-fig\n",
    "---\n",
    "Displayed content after selecting on two player.\n",
    "```"
   ]
  }
 ],
 "metadata": {
  "kernelspec": {
   "display_name": "Python 3 (ipykernel)",
   "language": "python",
   "name": "python3"
  },
  "language_info": {
   "codemirror_mode": {
    "name": "ipython",
    "version": 3
   },
   "file_extension": ".py",
   "mimetype": "text/x-python",
   "name": "python",
   "nbconvert_exporter": "python",
   "pygments_lexer": "ipython3",
   "version": "3.8.10"
  }
 },
 "nbformat": 4,
 "nbformat_minor": 5
}
