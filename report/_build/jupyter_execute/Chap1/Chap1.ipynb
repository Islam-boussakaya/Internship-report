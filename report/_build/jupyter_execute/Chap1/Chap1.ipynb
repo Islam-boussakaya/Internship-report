{
 "cells": [
  {
   "cell_type": "markdown",
   "id": "e336501e",
   "metadata": {},
   "source": [
    "# Kloppy Featuring InStat\n",
    "\n",
    "## Introduction\n",
    "\n",
    "Each football data provider uses its own unique format to describe the sequence of a game.\n",
    "Therefore, the software written to analyze this data must be suitable for a specific provider and cannot be used without modifications to analyze the data of other providers.\n",
    "\n",
    "Kloppy is a Python package that addresses the challenges posed by the variety of data formats and aims to be the fundamental building block for processing soccer tracking and event data. \n",
    "\n",
    "* How can the kloppy package deal with all these providers and generate the same result for each one? and which providers can support?\n",
    "\n",
    "## Problematic\n",
    "\n",
    "Before delving into the details we will identify the problematic . The Company is delivered with football data from different providers, In our case, we will point to the Instat provider. We simply want to adapt the Instat provider to the Kloppy package to be able to use its many features."
   ]
  }
 ],
 "metadata": {
  "jupytext": {
   "formats": "md:myst",
   "text_representation": {
    "extension": ".md",
    "format_name": "myst",
    "format_version": 0.13,
    "jupytext_version": "1.11.5"
   }
  },
  "kernelspec": {
   "display_name": "Python 3 (ipykernel)",
   "language": "python",
   "name": "python3"
  },
  "language_info": {
   "codemirror_mode": {
    "name": "ipython",
    "version": 3
   },
   "file_extension": ".py",
   "mimetype": "text/x-python",
   "name": "python",
   "nbconvert_exporter": "python",
   "pygments_lexer": "ipython3",
   "version": "3.8.10"
  },
  "source_map": [
   13
  ]
 },
 "nbformat": 4,
 "nbformat_minor": 5
}