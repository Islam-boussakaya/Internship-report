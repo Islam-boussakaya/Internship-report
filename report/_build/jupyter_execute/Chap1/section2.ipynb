{
 "cells": [
  {
   "cell_type": "markdown",
   "id": "f3260b71",
   "metadata": {},
   "source": [
    "## The InStat Provider\n",
    "\n",
    "### What is InStat ?\n",
    "InStat is a worldwide sports performance analysis company, it prepares statistics for pre-game analysis, collects data during games and breaks down the game after it is completed.\n",
    "\n",
    "### InStat Files\n",
    "As we mentionned before we will analyze the line-up & events file.\n",
    "\n",
    "#### Line-up \n",
    "```{figure} img/lineupxml.png\n",
    "---\n",
    "name: lineupfile-fig\n",
    "---\n",
    "This a sample of the lineup XML file\n",
    "```\n",
    "\n",
    "#### Events\n",
    "Each row is considered an event that occurred within the match, every action has the following characteristics: time, type of action , place on the pitch, the player who committed it, the opponent (in the case of challenges).\n",
    "```{figure} img/eventsxml.png\n",
    "---\n",
    "name: lineupfile-fig\n",
    "---\n",
    "This a sample of the events XML file\n",
    "```\n",
    "### InStat Actions\n",
    "InStat has a specific way of structuring events as well as its type of action, each action has a specefic identifier .\n",
    "\n",
    "|GENERIC ACTION| ACTION|\n",
    "|--------------|-------|\n",
    "|Pass| Attacking pass - Key pass - Assist - Key Assit|\n",
    "|Challenge| Challenge - Air challenge - Tackle - Dribble |\n",
    "|Disipline| Yellow card - Red card - RC for 2 YC| \n",
    "|Shot| Shot on target - Shot into the bar - Shot blocked|\n",
    "|Set Piece|Open play - Throw-in - Free-Kick - Corner|\n",
    "|Goal|Goal - Own goal|\n",
    "|Cross|Cross accurate - cross accurate|\n",
    "\n",
    "### InStat Coordinates System\n",
    "The Coordinates system is X,Y coordinates of the player on the pitch , it refers to his position.\n",
    "The origin of the coordinates is in the bottom left and the vertical orientation is from bottom to top of the pitch. The dimension of the picth is 105 * 68 .\n",
    "```{figure} img/pitch.png\n",
    "---\n",
    "name: pitch-fig\n",
    "---\n",
    "InStat pitch representation. \n",
    "```\n",
    "\n",
    "### InStat Standart\n",
    "Every event is qualified with a standart name as the following table shows.\n",
    "\n",
    "|Standart name|\n",
    "|-------------|\n",
    "|Open Play|\n",
    "|Throw-in|\n",
    "|Indirect Freekick|\n",
    "|Direct free kick|\n",
    "|Corner|\n",
    "\n",
    "### InStat Body Part\n",
    "Every event is qualified with a Body name that reffers to the body part as the following table shows.\n",
    "\n",
    "|Body name|\n",
    "|-------------|\n",
    "|Right foot|\n",
    "|Left foot|\n",
    "|Header|\n",
    "|Hand|\n",
    "|Other body part|"
   ]
  }
 ],
 "metadata": {
  "jupytext": {
   "formats": "md:myst",
   "text_representation": {
    "extension": ".md",
    "format_name": "myst",
    "format_version": 0.13,
    "jupytext_version": "1.11.5"
   }
  },
  "kernelspec": {
   "display_name": "Python 3 (ipykernel)",
   "language": "python",
   "name": "python3"
  },
  "language_info": {
   "codemirror_mode": {
    "name": "ipython",
    "version": 3
   },
   "file_extension": ".py",
   "mimetype": "text/x-python",
   "name": "python",
   "nbconvert_exporter": "python",
   "pygments_lexer": "ipython3",
   "version": "3.8.10"
  },
  "source_map": [
   13
  ]
 },
 "nbformat": 4,
 "nbformat_minor": 5
}