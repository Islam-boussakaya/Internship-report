{
 "cells": [
  {
   "cell_type": "markdown",
   "id": "b626b0cf",
   "metadata": {},
   "source": [
    "# Conclusion\n",
    "\n",
    "Achieving this project has brought me many things, every part of the project challenged me to cope with new techniques and methods so that I could improve, even at times I faced struggles. \n",
    "By adapting the methdology scrum, the daily meetings helped me to strengthen my skills and to get motivated.\n",
    "This internship has introduced me to the working life and gave me a chance to put my theoretical knowledge to work."
   ]
  }
 ],
 "metadata": {
  "jupytext": {
   "formats": "md:myst",
   "text_representation": {
    "extension": ".md",
    "format_name": "myst",
    "format_version": 0.13,
    "jupytext_version": "1.11.5"
   }
  },
  "kernelspec": {
   "display_name": "Python 3 (ipykernel)",
   "language": "python",
   "name": "python3"
  },
  "language_info": {
   "codemirror_mode": {
    "name": "ipython",
    "version": 3
   },
   "file_extension": ".py",
   "mimetype": "text/x-python",
   "name": "python",
   "nbconvert_exporter": "python",
   "pygments_lexer": "ipython3",
   "version": "3.8.10"
  },
  "source_map": [
   13
  ]
 },
 "nbformat": 4,
 "nbformat_minor": 5
}