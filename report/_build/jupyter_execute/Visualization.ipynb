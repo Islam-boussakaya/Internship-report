{
 "cells": [
  {
   "cell_type": "markdown",
   "id": "312c83f4",
   "metadata": {},
   "source": [
    "# Visualization\n",
    "\n",
    "## Introduction\n",
    "In this chapter , we will present the data analyzed for visualization purposes.\n",
    "\n",
    "\n",
    "## Tools\n",
    "As we mentioned earlier, this internship is done only using python programming language. We will use Dash-plotly as a framework.\n",
    "\n",
    "### What is Dash ?\n",
    "\n",
    "Dash is a python framework created by plotly for creating interactive web applications. Dash is written on the top of Flask, Plotly.js and React.js.Dash is open source and the application build using this framework are viewed on the web browser.\n",
    "\n",
    "The Dash application is made of two building blocks\n",
    "\n",
    "**Layout :** It defines the structure of the application . Elements used such as dropdowns , buttons , graphs etc and the placement , size , color etc. Dash contains Dash HTML components which we can create and style HTML content such as heading, paragraph, images etc using python . Elements such as dropdowns, graphs, cards are created using Dash Core components.\n",
    "Dash also includes Dash Bootstrap components that makes it easier to build consistently styled apps with complex, responsive layouts.\n",
    "\n",
    "**Callbacks :** Are used to bring interactivity to the dash application. These are the functions using which, for example, we can define the activity that would happen on clicking a button or a dropdown.\n",
    "\n",
    "\n",
    "## Dashboard Content\n",
    "### Match page\n",
    "### Player page\n",
    "### Player Comparison\n",
    "\n",
    "A player metrcis dashboard that dipsplay the types of running performance of the player in a game.\n",
    "\n",
    "\n",
    "|Variable|Description|\n",
    "|--------|-----------|\n",
    "|Total Minutes|Total minutes in MM:SS format that a player played in the game.|\n",
    "|Distance|Total distance player travelled in meters|\n",
    "|No. of High Intensity Runs|The number of high speed runs and sprints that the player performs in a game.|\n",
    "|No. of High Speed Runs|The number of high speed runs that the player performs in a game.|\n",
    "|No. of Sprints|The number of sprints that the player performs in a game.|\n",
    "|Standing|Total distance player travelled in meters while standing.|\n",
    "|Walking| Total distance player travelled in meters while walking. |\n",
    "|Jogging| Total distance player travelled in meters while jogging. |\n",
    "|Running| Total distance player travelled in meters while running. |\n",
    "|High Speed Running| Total distance player travelled in meters while high speed running.|\n",
    "|Sprint| Total distance player travelled in meters while sprinting.|"
   ]
  }
 ],
 "metadata": {
  "kernelspec": {
   "display_name": "Python 3 (ipykernel)",
   "language": "python",
   "name": "python3"
  },
  "language_info": {
   "codemirror_mode": {
    "name": "ipython",
    "version": 3
   },
   "file_extension": ".py",
   "mimetype": "text/x-python",
   "name": "python",
   "nbconvert_exporter": "python",
   "pygments_lexer": "ipython3",
   "version": "3.8.10"
  }
 },
 "nbformat": 4,
 "nbformat_minor": 5
}