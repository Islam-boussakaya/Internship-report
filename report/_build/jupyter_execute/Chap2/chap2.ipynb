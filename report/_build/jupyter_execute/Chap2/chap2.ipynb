{
 "cells": [
  {
   "cell_type": "markdown",
   "id": "e3266c3f",
   "metadata": {},
   "source": [
    "# Physical  report\n",
    "## Introduction\n",
    "## Tracking Data\n",
    "## Workflow\n",
    "### Minutes played\n",
    "### Distance covered\n",
    "### Report\n",
    "## Result"
   ]
  },
  {
   "cell_type": "code",
   "execution_count": 1,
   "id": "ee233c60",
   "metadata": {},
   "outputs": [
    {
     "ename": "SyntaxError",
     "evalue": "invalid syntax (2016329191.py, line 2)",
     "output_type": "error",
     "traceback": [
      "\u001b[0;36m  Input \u001b[0;32mIn [1]\u001b[0;36m\u001b[0m\n\u001b[0;31m    (?=_)\u001b[0m\n\u001b[0m     ^\u001b[0m\n\u001b[0;31mSyntaxError\u001b[0m\u001b[0;31m:\u001b[0m invalid syntax\n"
     ]
    }
   ],
   "source": [
    "x = \"1 Mathew Ryan (GK)\"\n",
    "(?=_)"
   ]
  }
 ],
 "metadata": {
  "jupytext": {
   "formats": "md:myst",
   "text_representation": {
    "extension": ".md",
    "format_name": "myst",
    "format_version": 0.13,
    "jupytext_version": "1.11.5"
   }
  },
  "kernelspec": {
   "display_name": "Python 3 (ipykernel)",
   "language": "python",
   "name": "python3"
  },
  "language_info": {
   "codemirror_mode": {
    "name": "ipython",
    "version": 3
   },
   "file_extension": ".py",
   "mimetype": "text/x-python",
   "name": "python",
   "nbconvert_exporter": "python",
   "pygments_lexer": "ipython3",
   "version": "3.8.10"
  },
  "source_map": [
   13,
   24
  ]
 },
 "nbformat": 4,
 "nbformat_minor": 5
}